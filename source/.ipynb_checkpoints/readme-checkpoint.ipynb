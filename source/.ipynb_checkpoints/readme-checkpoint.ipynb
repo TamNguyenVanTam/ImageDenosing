{
 "cells": [
  {
   "cell_type": "raw",
   "metadata": {},
   "source": [
    "Create Dataset"
   ]
  },
  {
   "cell_type": "code",
   "execution_count": null,
   "metadata": {},
   "outputs": [],
   "source": [
    "!python prepare_data/crop.py \\\n",
    "    --img_dir \"../data/Forms\" \\\n",
    "    --train_dir \"../data/train1\"\\\n",
    "    --valid_dir \"../data/valid1\""
   ]
  },
  {
   "cell_type": "markdown",
   "metadata": {},
   "source": [
    "train DnCNN"
   ]
  },
  {
   "cell_type": "code",
   "execution_count": 9,
   "metadata": {},
   "outputs": [
    {
     "ename": "IndentationError",
     "evalue": "unexpected indent (<ipython-input-9-487949431c6d>, line 2)",
     "output_type": "error",
     "traceback": [
      "\u001b[0;36m  File \u001b[0;32m\"<ipython-input-9-487949431c6d>\"\u001b[0;36m, line \u001b[0;32m2\u001b[0m\n\u001b[0;31m    --batch_size 16    --lr 0.0001    --phase \"train\"    --model \"dncnn\"\\\u001b[0m\n\u001b[0m    ^\u001b[0m\n\u001b[0;31mIndentationError\u001b[0m\u001b[0;31m:\u001b[0m unexpected indent\n"
     ]
    }
   ],
   "source": [
    "!python networks/main.py\\\n",
    "    --epoch 50\\ \n",
    "    --batch_size 16\\\n",
    "    --lr 0.0001\\\n",
    "    --phase \"train\"\\\n",
    "    --model \"dncnn\"\\ \n",
    "    --checkpoint_dir './checkpoint/DNCNN1'\\ \n",
    "    --train_dir \"../data/train1\"\\\n",
    "    --valid_dir \"../data/valid1\"\\\n",
    "    --tmp_dir \"../data/tmp\"\\\n",
    "    --gpu \"0\""
   ]
  },
  {
   "cell_type": "code",
   "execution_count": null,
   "metadata": {},
   "outputs": [],
   "source": []
  }
 ],
 "metadata": {
  "kernelspec": {
   "display_name": "Python 2",
   "language": "python",
   "name": "python2"
  },
  "language_info": {
   "codemirror_mode": {
    "name": "ipython",
    "version": 2
   },
   "file_extension": ".py",
   "mimetype": "text/x-python",
   "name": "python",
   "nbconvert_exporter": "python",
   "pygments_lexer": "ipython2",
   "version": "2.7.12"
  }
 },
 "nbformat": 4,
 "nbformat_minor": 2
}
